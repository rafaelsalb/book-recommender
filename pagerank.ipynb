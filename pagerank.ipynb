{
 "cells": [
  {
   "cell_type": "code",
   "execution_count": 2,
   "metadata": {},
   "outputs": [],
   "source": [
    "import sknetwork as skn\n",
    "import numpy as np\n",
    "from IPython.display import SVG"
   ]
  },
  {
   "cell_type": "code",
   "execution_count": 1,
   "metadata": {},
   "outputs": [],
   "source": [
    "edges = [\n",
    "    (\"George Orwell\", \"1984\"),\n",
    "    (\"1984\", \"Distopia\"),\n",
    "    (\"George Orwell\", \"A Revolução dos Bichos\"),\n",
    "    (\"A Revolução dos Bichos\", \"Ficção\"),\n",
    "    (\"Isaac Asiimov\", \"Sol Desvelado\"),\n",
    "    (\"Sol Desvelado\", \"Ficção\"),\n",
    "]"
   ]
  },
  {
   "cell_type": "code",
   "execution_count": 3,
   "metadata": {},
   "outputs": [],
   "source": [
    "graph = skn.data.from_edge_list(edges)"
   ]
  },
  {
   "cell_type": "code",
   "execution_count": 4,
   "metadata": {},
   "outputs": [
    {
     "data": {
      "image/svg+xml": [
       "<svg xmlns=\"http://www.w3.org/2000/svg\" width=\"596.0\" height=\"340\">\n",
       "<path stroke-width=\"1\" stroke=\"gray\" d=\"M 79 276 20 320\"/>\n",
       "<path stroke-width=\"1\" stroke=\"gray\" d=\"M 79 276 149 225\"/>\n",
       "<path stroke-width=\"1\" stroke=\"gray\" d=\"M 222 171 294 116\"/>\n",
       "<path stroke-width=\"1\" stroke=\"gray\" d=\"M 222 171 149 225\"/>\n",
       "<path stroke-width=\"1\" stroke=\"gray\" d=\"M 20 320 79 276\"/>\n",
       "<path stroke-width=\"1\" stroke=\"gray\" d=\"M 294 116 222 171\"/>\n",
       "<path stroke-width=\"1\" stroke=\"gray\" d=\"M 294 116 362 64\"/>\n",
       "<path stroke-width=\"1\" stroke=\"gray\" d=\"M 149 225 79 276\"/>\n",
       "<path stroke-width=\"1\" stroke=\"gray\" d=\"M 149 225 222 171\"/>\n",
       "<path stroke-width=\"1\" stroke=\"gray\" d=\"M 420 20 362 64\"/>\n",
       "<path stroke-width=\"1\" stroke=\"gray\" d=\"M 362 64 294 116\"/>\n",
       "<path stroke-width=\"1\" stroke=\"gray\" d=\"M 362 64 420 20\"/>\n",
       "<circle cx=\"79\" cy=\"276\" r=\"7.0\" style=\"fill:gray;stroke:black;stroke-width:1.0\"/>\n",
       "<circle cx=\"222\" cy=\"171\" r=\"7.0\" style=\"fill:gray;stroke:black;stroke-width:1.0\"/>\n",
       "<circle cx=\"20\" cy=\"320\" r=\"7.0\" style=\"fill:gray;stroke:black;stroke-width:1.0\"/>\n",
       "<circle cx=\"294\" cy=\"116\" r=\"7.0\" style=\"fill:gray;stroke:black;stroke-width:1.0\"/>\n",
       "<circle cx=\"149\" cy=\"225\" r=\"7.0\" style=\"fill:gray;stroke:black;stroke-width:1.0\"/>\n",
       "<circle cx=\"420\" cy=\"20\" r=\"7.0\" style=\"fill:gray;stroke:black;stroke-width:1.0\"/>\n",
       "<circle cx=\"362\" cy=\"64\" r=\"7.0\" style=\"fill:gray;stroke:black;stroke-width:1.0\"/>\n",
       "<text text-anchor=\"start\" x=\"89\" y=\"276\" font-size=\"12\">1984</text><text text-anchor=\"start\" x=\"232\" y=\"171\" font-size=\"12\">A Revolução dos Bichos</text><text text-anchor=\"start\" x=\"30\" y=\"320\" font-size=\"12\">Distopia</text><text text-anchor=\"start\" x=\"304\" y=\"116\" font-size=\"12\">Ficção</text><text text-anchor=\"start\" x=\"159\" y=\"225\" font-size=\"12\">George Orwell</text><text text-anchor=\"start\" x=\"430\" y=\"20\" font-size=\"12\">Isaac Asiimov</text><text text-anchor=\"start\" x=\"372\" y=\"64\" font-size=\"12\">Sol Desvelado</text></svg>"
      ],
      "text/plain": [
       "<IPython.core.display.SVG object>"
      ]
     },
     "execution_count": 4,
     "metadata": {},
     "output_type": "execute_result"
    }
   ],
   "source": [
    "image = skn.visualization.graphs.visualize_graph(adjacency=graph.adjacency, names=graph.names)\n",
    "SVG(image)"
   ]
  },
  {
   "cell_type": "code",
   "execution_count": 6,
   "metadata": {},
   "outputs": [],
   "source": [
    "from sknetwork.ranking import PageRank"
   ]
  },
  {
   "cell_type": "code",
   "execution_count": 7,
   "metadata": {},
   "outputs": [],
   "source": [
    "pagerank = PageRank()\n",
    "scores = pagerank.fit_predict(graph.adjacency)"
   ]
  },
  {
   "cell_type": "code",
   "execution_count": 8,
   "metadata": {},
   "outputs": [
    {
     "data": {
      "text/plain": [
       "array([0.25, 0.25, 0.25, 0.25])"
      ]
     },
     "execution_count": 8,
     "metadata": {},
     "output_type": "execute_result"
    }
   ],
   "source": [
    "scores"
   ]
  }
 ],
 "metadata": {
  "kernelspec": {
   "display_name": ".venv",
   "language": "python",
   "name": "python3"
  },
  "language_info": {
   "codemirror_mode": {
    "name": "ipython",
    "version": 3
   },
   "file_extension": ".py",
   "mimetype": "text/x-python",
   "name": "python",
   "nbconvert_exporter": "python",
   "pygments_lexer": "ipython3",
   "version": "3.12.3"
  }
 },
 "nbformat": 4,
 "nbformat_minor": 2
}

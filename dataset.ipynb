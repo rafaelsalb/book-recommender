{
 "cells": [
  {
   "cell_type": "code",
   "execution_count": 1,
   "metadata": {},
   "outputs": [],
   "source": [
    "import dataset"
   ]
  },
  {
   "cell_type": "code",
   "execution_count": 2,
   "metadata": {},
   "outputs": [],
   "source": [
    "ds = dataset.load_goodreads_books(1)"
   ]
  },
  {
   "cell_type": "code",
   "execution_count": 3,
   "metadata": {},
   "outputs": [
    {
     "data": {
      "text/html": [
       "<div>\n",
       "<style scoped>\n",
       "    .dataframe tbody tr th:only-of-type {\n",
       "        vertical-align: middle;\n",
       "    }\n",
       "\n",
       "    .dataframe tbody tr th {\n",
       "        vertical-align: top;\n",
       "    }\n",
       "\n",
       "    .dataframe thead th {\n",
       "        text-align: right;\n",
       "    }\n",
       "</style>\n",
       "<table border=\"1\" class=\"dataframe\">\n",
       "  <thead>\n",
       "    <tr style=\"text-align: right;\">\n",
       "      <th></th>\n",
       "      <th>author</th>\n",
       "      <th>name</th>\n",
       "      <th>genres</th>\n",
       "      <th>star_rating</th>\n",
       "    </tr>\n",
       "  </thead>\n",
       "  <tbody>\n",
       "    <tr>\n",
       "      <th>63740</th>\n",
       "      <td>[Stephenie Meyer]</td>\n",
       "      <td>New Moon</td>\n",
       "      <td>[Fantasy, Young Adult, Romance, Vampires, Fict...</td>\n",
       "      <td>3.60</td>\n",
       "    </tr>\n",
       "    <tr>\n",
       "      <th>41642</th>\n",
       "      <td>[Mark Twain]</td>\n",
       "      <td>The Adventures of Tom Sawyer</td>\n",
       "      <td>[Classics, Fiction, Adventure, Historical Fict...</td>\n",
       "      <td>3.92</td>\n",
       "    </tr>\n",
       "    <tr>\n",
       "      <th>58489</th>\n",
       "      <td>[Charles Duhigg]</td>\n",
       "      <td>The Power of Habit: Why We Do What We Do in Li...</td>\n",
       "      <td>[Nonfiction, Self Help, Psychology, Business, ...</td>\n",
       "      <td>4.13</td>\n",
       "    </tr>\n",
       "    <tr>\n",
       "      <th>45404</th>\n",
       "      <td>[Gabriel García Márquez]</td>\n",
       "      <td>Love in the Time of Cholera</td>\n",
       "      <td>[Fiction, Historical Fiction, Magical Realism,...</td>\n",
       "      <td>3.94</td>\n",
       "    </tr>\n",
       "    <tr>\n",
       "      <th>27001</th>\n",
       "      <td>[William Landay]</td>\n",
       "      <td>Defending Jacob</td>\n",
       "      <td>[Fiction, Mystery, Thriller, Crime, Mystery Th...</td>\n",
       "      <td>4.00</td>\n",
       "    </tr>\n",
       "    <tr>\n",
       "      <th>...</th>\n",
       "      <td>...</td>\n",
       "      <td>...</td>\n",
       "      <td>...</td>\n",
       "      <td>...</td>\n",
       "    </tr>\n",
       "    <tr>\n",
       "      <th>16148</th>\n",
       "      <td>[Segio Aguirre]</td>\n",
       "      <td>La venganza de la vaca</td>\n",
       "      <td>[School, Thriller, Horror]</td>\n",
       "      <td>3.47</td>\n",
       "    </tr>\n",
       "    <tr>\n",
       "      <th>48303</th>\n",
       "      <td>[J.R. Tomlin]</td>\n",
       "      <td>A King Ensnared</td>\n",
       "      <td>[Historical Fiction, Historical, Fiction, Scot...</td>\n",
       "      <td>3.89</td>\n",
       "    </tr>\n",
       "    <tr>\n",
       "      <th>21957</th>\n",
       "      <td>[Mercy Celeste]</td>\n",
       "      <td>The 51st Thursday</td>\n",
       "      <td>[M M Romance, Contemporary, Romance, Erotica, ...</td>\n",
       "      <td>3.63</td>\n",
       "    </tr>\n",
       "    <tr>\n",
       "      <th>9928</th>\n",
       "      <td>[Roger Zelazny]</td>\n",
       "      <td>If at Faust You Don't Succeed</td>\n",
       "      <td>[Fantasy, Humor, Fiction, Science Fiction Fant...</td>\n",
       "      <td>3.74</td>\n",
       "    </tr>\n",
       "    <tr>\n",
       "      <th>53707</th>\n",
       "      <td>[Tod Olson]</td>\n",
       "      <td>Lost in the Pacific, 1942: Not a Drop to Drink</td>\n",
       "      <td>[Nonfiction, History, Middle Grade, Survival, ...</td>\n",
       "      <td>4.05</td>\n",
       "    </tr>\n",
       "  </tbody>\n",
       "</table>\n",
       "<p>1000 rows × 4 columns</p>\n",
       "</div>"
      ],
      "text/plain": [
       "                         author  \\\n",
       "63740         [Stephenie Meyer]   \n",
       "41642              [Mark Twain]   \n",
       "58489          [Charles Duhigg]   \n",
       "45404  [Gabriel García Márquez]   \n",
       "27001          [William Landay]   \n",
       "...                         ...   \n",
       "16148           [Segio Aguirre]   \n",
       "48303             [J.R. Tomlin]   \n",
       "21957           [Mercy Celeste]   \n",
       "9928            [Roger Zelazny]   \n",
       "53707               [Tod Olson]   \n",
       "\n",
       "                                                    name  \\\n",
       "63740                                           New Moon   \n",
       "41642                       The Adventures of Tom Sawyer   \n",
       "58489  The Power of Habit: Why We Do What We Do in Li...   \n",
       "45404                        Love in the Time of Cholera   \n",
       "27001                                    Defending Jacob   \n",
       "...                                                  ...   \n",
       "16148                             La venganza de la vaca   \n",
       "48303                                    A King Ensnared   \n",
       "21957                                  The 51st Thursday   \n",
       "9928                       If at Faust You Don't Succeed   \n",
       "53707     Lost in the Pacific, 1942: Not a Drop to Drink   \n",
       "\n",
       "                                                  genres  star_rating  \n",
       "63740  [Fantasy, Young Adult, Romance, Vampires, Fict...         3.60  \n",
       "41642  [Classics, Fiction, Adventure, Historical Fict...         3.92  \n",
       "58489  [Nonfiction, Self Help, Psychology, Business, ...         4.13  \n",
       "45404  [Fiction, Historical Fiction, Magical Realism,...         3.94  \n",
       "27001  [Fiction, Mystery, Thriller, Crime, Mystery Th...         4.00  \n",
       "...                                                  ...          ...  \n",
       "16148                         [School, Thriller, Horror]         3.47  \n",
       "48303  [Historical Fiction, Historical, Fiction, Scot...         3.89  \n",
       "21957  [M M Romance, Contemporary, Romance, Erotica, ...         3.63  \n",
       "9928   [Fantasy, Humor, Fiction, Science Fiction Fant...         3.74  \n",
       "53707  [Nonfiction, History, Middle Grade, Survival, ...         4.05  \n",
       "\n",
       "[1000 rows x 4 columns]"
      ]
     },
     "execution_count": 3,
     "metadata": {},
     "output_type": "execute_result"
    }
   ],
   "source": [
    "sub = ds.head(1_000)\n",
    "sub"
   ]
  },
  {
   "cell_type": "code",
   "execution_count": 4,
   "metadata": {},
   "outputs": [
    {
     "name": "stdout",
     "output_type": "stream",
     "text": [
      "1401717\n"
     ]
    }
   ],
   "source": [
    "edges = []\n",
    "for col in ['author', 'genres']:\n",
    "    for r in sub[col]:\n",
    "        for i in r:\n",
    "            entry = dataset.edge_list(sub, col, i)\n",
    "            edges.extend(entry)\n",
    "print(len(edges))"
   ]
  },
  {
   "cell_type": "code",
   "execution_count": 5,
   "metadata": {},
   "outputs": [],
   "source": [
    "from graph.graph import Graph"
   ]
  },
  {
   "cell_type": "code",
   "execution_count": 6,
   "metadata": {},
   "outputs": [],
   "source": [
    "graph = Graph.from_edge_list(edges)"
   ]
  },
  {
   "cell_type": "code",
   "execution_count": 7,
   "metadata": {},
   "outputs": [
    {
     "data": {
      "text/plain": [
       "(2472, 2472)"
      ]
     },
     "execution_count": 7,
     "metadata": {},
     "output_type": "execute_result"
    }
   ],
   "source": [
    "matrix, ids = graph.adjacency_matrix()\n",
    "matrix.shape"
   ]
  },
  {
   "cell_type": "code",
   "execution_count": 8,
   "metadata": {},
   "outputs": [],
   "source": [
    "from ppr import personalized_pagerank\n",
    "import numpy as np\n",
    "import pandas as pd"
   ]
  },
  {
   "cell_type": "code",
   "execution_count": 9,
   "metadata": {},
   "outputs": [
    {
     "data": {
      "text/html": [
       "<div>\n",
       "<style scoped>\n",
       "    .dataframe tbody tr th:only-of-type {\n",
       "        vertical-align: middle;\n",
       "    }\n",
       "\n",
       "    .dataframe tbody tr th {\n",
       "        vertical-align: top;\n",
       "    }\n",
       "\n",
       "    .dataframe thead th {\n",
       "        text-align: right;\n",
       "    }\n",
       "</style>\n",
       "<table border=\"1\" class=\"dataframe\">\n",
       "  <thead>\n",
       "    <tr style=\"text-align: right;\">\n",
       "      <th></th>\n",
       "      <th>author</th>\n",
       "      <th>name</th>\n",
       "      <th>genres</th>\n",
       "      <th>star_rating</th>\n",
       "    </tr>\n",
       "  </thead>\n",
       "  <tbody>\n",
       "    <tr>\n",
       "      <th>58489</th>\n",
       "      <td>[Charles Duhigg]</td>\n",
       "      <td>The Power of Habit: Why We Do What We Do in Li...</td>\n",
       "      <td>[Nonfiction, Self Help, Psychology, Business, ...</td>\n",
       "      <td>4.13</td>\n",
       "    </tr>\n",
       "    <tr>\n",
       "      <th>11234</th>\n",
       "      <td>[Barack Obama]</td>\n",
       "      <td>Dreams from My Father: A Story of Race and Inh...</td>\n",
       "      <td>[Nonfiction, Biography, Memoir, Politics, Auto...</td>\n",
       "      <td>3.93</td>\n",
       "    </tr>\n",
       "    <tr>\n",
       "      <th>59087</th>\n",
       "      <td>[Marcus Luttrell]</td>\n",
       "      <td>Lone Survivor: The Eyewitness Account of Opera...</td>\n",
       "      <td>[Nonfiction, Military Fiction, History, War, B...</td>\n",
       "      <td>4.34</td>\n",
       "    </tr>\n",
       "    <tr>\n",
       "      <th>49676</th>\n",
       "      <td>[Daron Acemoğlu]</td>\n",
       "      <td>Why Nations Fail: The Origins of Power, Prospe...</td>\n",
       "      <td>[Nonfiction, Politics, History, Business, Soci...</td>\n",
       "      <td>4.08</td>\n",
       "    </tr>\n",
       "    <tr>\n",
       "      <th>7284</th>\n",
       "      <td>[Nicholas Sparks]</td>\n",
       "      <td>Three Weeks With My Brother</td>\n",
       "      <td>[Nonfiction, Memoir, Biography, Travel, Romanc...</td>\n",
       "      <td>4.03</td>\n",
       "    </tr>\n",
       "    <tr>\n",
       "      <th>...</th>\n",
       "      <td>...</td>\n",
       "      <td>...</td>\n",
       "      <td>...</td>\n",
       "      <td>...</td>\n",
       "    </tr>\n",
       "    <tr>\n",
       "      <th>62863</th>\n",
       "      <td>[Alton Brown]</td>\n",
       "      <td>Good Eats: The Later Years</td>\n",
       "      <td>[Cookbooks, Cooking, Food, Nonfiction, Referen...</td>\n",
       "      <td>4.49</td>\n",
       "    </tr>\n",
       "    <tr>\n",
       "      <th>55763</th>\n",
       "      <td>[Kenneth H. Rosen]</td>\n",
       "      <td>Discrete Mathematics and its Applications</td>\n",
       "      <td>[Mathematics, Computer Science, Textbooks, Non...</td>\n",
       "      <td>3.89</td>\n",
       "    </tr>\n",
       "    <tr>\n",
       "      <th>6760</th>\n",
       "      <td>[Michele Rigby Assad]</td>\n",
       "      <td>Breaking Cover: My Secret Life in the CIA and ...</td>\n",
       "      <td>[Nonfiction, Memoir, Biography, Audiobook, Chr...</td>\n",
       "      <td>3.85</td>\n",
       "    </tr>\n",
       "    <tr>\n",
       "      <th>31923</th>\n",
       "      <td>[Jeremy Rifkin]</td>\n",
       "      <td>The Third Industrial Revolution: How Lateral P...</td>\n",
       "      <td>[Economics, Nonfiction, Business, Science, Pol...</td>\n",
       "      <td>3.87</td>\n",
       "    </tr>\n",
       "    <tr>\n",
       "      <th>53707</th>\n",
       "      <td>[Tod Olson]</td>\n",
       "      <td>Lost in the Pacific, 1942: Not a Drop to Drink</td>\n",
       "      <td>[Nonfiction, History, Middle Grade, Survival, ...</td>\n",
       "      <td>4.05</td>\n",
       "    </tr>\n",
       "  </tbody>\n",
       "</table>\n",
       "<p>202 rows × 4 columns</p>\n",
       "</div>"
      ],
      "text/plain": [
       "                      author  \\\n",
       "58489       [Charles Duhigg]   \n",
       "11234         [Barack Obama]   \n",
       "59087      [Marcus Luttrell]   \n",
       "49676       [Daron Acemoğlu]   \n",
       "7284       [Nicholas Sparks]   \n",
       "...                      ...   \n",
       "62863          [Alton Brown]   \n",
       "55763     [Kenneth H. Rosen]   \n",
       "6760   [Michele Rigby Assad]   \n",
       "31923        [Jeremy Rifkin]   \n",
       "53707            [Tod Olson]   \n",
       "\n",
       "                                                    name  \\\n",
       "58489  The Power of Habit: Why We Do What We Do in Li...   \n",
       "11234  Dreams from My Father: A Story of Race and Inh...   \n",
       "59087  Lone Survivor: The Eyewitness Account of Opera...   \n",
       "49676  Why Nations Fail: The Origins of Power, Prospe...   \n",
       "7284                         Three Weeks With My Brother   \n",
       "...                                                  ...   \n",
       "62863                         Good Eats: The Later Years   \n",
       "55763          Discrete Mathematics and its Applications   \n",
       "6760   Breaking Cover: My Secret Life in the CIA and ...   \n",
       "31923  The Third Industrial Revolution: How Lateral P...   \n",
       "53707     Lost in the Pacific, 1942: Not a Drop to Drink   \n",
       "\n",
       "                                                  genres  star_rating  \n",
       "58489  [Nonfiction, Self Help, Psychology, Business, ...         4.13  \n",
       "11234  [Nonfiction, Biography, Memoir, Politics, Auto...         3.93  \n",
       "59087  [Nonfiction, Military Fiction, History, War, B...         4.34  \n",
       "49676  [Nonfiction, Politics, History, Business, Soci...         4.08  \n",
       "7284   [Nonfiction, Memoir, Biography, Travel, Romanc...         4.03  \n",
       "...                                                  ...          ...  \n",
       "62863  [Cookbooks, Cooking, Food, Nonfiction, Referen...         4.49  \n",
       "55763  [Mathematics, Computer Science, Textbooks, Non...         3.89  \n",
       "6760   [Nonfiction, Memoir, Biography, Audiobook, Chr...         3.85  \n",
       "31923  [Economics, Nonfiction, Business, Science, Pol...         3.87  \n",
       "53707  [Nonfiction, History, Middle Grade, Survival, ...         4.05  \n",
       "\n",
       "[202 rows x 4 columns]"
      ]
     },
     "metadata": {},
     "output_type": "display_data"
    }
   ],
   "source": [
    "from IPython.display import display\n",
    "\n",
    "with pd.option_context('display.max_rows', 10):\n",
    "    display(dataset.books_by_genre(sub, 'Nonfiction'))"
   ]
  },
  {
   "cell_type": "code",
   "execution_count": 10,
   "metadata": {},
   "outputs": [
    {
     "data": {
      "text/plain": [
       "(0.0004045307443365696, 1.0)"
      ]
     },
     "execution_count": 10,
     "metadata": {},
     "output_type": "execute_result"
    }
   ],
   "source": [
    "weights = 1.0 / matrix.shape[0]\n",
    "personalization_vector = np.array([weights] * matrix.shape[0])\n",
    "weights, matrix.shape[0] * weights"
   ]
  },
  {
   "cell_type": "code",
   "execution_count": 11,
   "metadata": {},
   "outputs": [
    {
     "data": {
      "text/plain": [
       "array([0.00048142, 0.000103  , 0.0001028 , ..., 0.00057389, 0.00063299,\n",
       "       0.00047548])"
      ]
     },
     "execution_count": 11,
     "metadata": {},
     "output_type": "execute_result"
    }
   ],
   "source": [
    "personalized_pagerank(matrix, personalization_vector)"
   ]
  }
 ],
 "metadata": {
  "kernelspec": {
   "display_name": ".venv",
   "language": "python",
   "name": "python3"
  },
  "language_info": {
   "codemirror_mode": {
    "name": "ipython",
    "version": 3
   },
   "file_extension": ".py",
   "mimetype": "text/x-python",
   "name": "python",
   "nbconvert_exporter": "python",
   "pygments_lexer": "ipython3",
   "version": "3.12.6"
  }
 },
 "nbformat": 4,
 "nbformat_minor": 2
}
